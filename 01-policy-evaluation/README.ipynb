{
 "cells": [
  {
   "cell_type": "markdown",
   "metadata": {},
   "source": [
    "# 01-policy-evaluation\n",
    "\n",
    "This directory contains code and resources related to **policy evaluation** in reinforcement learning."
   ]
  },
  {
   "cell_type": "markdown",
   "metadata": {},
   "source": [
    "## Contents\n",
    "- Implementations and examples for policy evaluation algorithms\n",
    "- Supporting scripts and documentation"
   ]
  },
  {
   "cell_type": "markdown",
   "metadata": {},
   "source": [
    "## Mathematical Principle\n",
    "\n",
    "Policy evaluation estimates the **state-value function** $ v_\\pi(s) $ for a given policy $ \\pi $."
   ]
  },
  {
   "cell_type": "markdown",
   "metadata": {},
   "source": [
    "### State-Value Function\n",
    "\n",
    "The state-value function under policy $ \\pi $ is:\n",
    "\n",
    "$$\n",
    "v_\\pi(s) = \\mathbb{E}_\\pi \\left[ \\sum_{t=0}^\\infty \\gamma^t R_{t+1} \\;\\middle|\\; S_0 = s \\right]\n",
    "$$\n",
    "\n",
    "Where:\n",
    "- $ s $ = current state  \n",
    "- $ \\pi(a|s) $ = probability of taking action $ a $ in state $ s $ under policy $ \\pi $  \n",
    "- $ R_{t+1} $ = reward after transitioning from step $ t $ to $ t+1 $  \n",
    "- $ \\gamma \\in [0,1] $ = discount factor for future rewards  "
   ]
  },
  {
   "cell_type": "markdown",
   "metadata": {},
   "source": [
    "### Bellman Expectation Equation\n",
    "\n",
    "This function satisfies the **Bellman expectation equation**:\n",
    "\n",
    "$$\n",
    "v_\\pi(s) = \\sum_{a} \\pi(a|s) \\sum_{s', r} p(s', r \\mid s, a) \\left[ r + \\gamma v_\\pi(s') \\right]\n",
    "$$\n",
    "\n",
    "Where:\n",
    "- $ p(s', r \\mid s, a) $ = transition probability of moving to $ s' $ and receiving reward $ r $ from $ s $ using $ a $  "
   ]
  },
  {
   "cell_type": "markdown",
   "metadata": {},
   "source": [
    "### Iterative Policy Evaluation Algorithm\n",
    "\n",
    "Numerically, $ v_\\pi $ can be estimated iteratively:\n",
    "\n",
    "$$\n",
    "v_{k+1}(s) = \\sum_{a} \\pi(a|s) \\sum_{s', r} p(s', r \\mid s, a) \\left[ r + \\gamma v_k(s') \\right]\n",
    "$$\n",
    "\n",
    "Repeat until convergence:\n",
    "\n",
    "$$\n",
    "\\max_s \\; \\left| v_{k+1}(s) - v_k(s) \\right| < \\theta\n",
    "$$\n",
    "\n",
    "where $ \\theta $ is a small positive threshold."
   ]
  },
  {
   "cell_type": "markdown",
   "metadata": {},
   "source": [
    "## References\n",
    "- Sutton & Barto, *Reinforcement Learning: An Introduction*  \n",
    "- Bellman, R. *Dynamic Programming* (1957)"
   ]
  }
 ],
 "metadata": {
  "kernelspec": {
   "display_name": "Python 3",
   "language": "python",
   "name": "python3"
  },
  "language_info": {
   "name": "python",
   "version": "3.8.0"
  }
 },
 "nbformat": 4,
 "nbformat_minor": 4
}